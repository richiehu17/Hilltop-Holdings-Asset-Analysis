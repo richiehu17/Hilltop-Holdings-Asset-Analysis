{
 "cells": [
  {
   "cell_type": "code",
   "execution_count": null,
   "metadata": {},
   "outputs": [],
   "source": [
    "from IPython.core.interactiveshell import InteractiveShell\n",
    "InteractiveShell.ast_node_interactivity = \"all\""
   ]
  },
  {
   "cell_type": "code",
   "execution_count": null,
   "metadata": {},
   "outputs": [],
   "source": [
    "import numpy as np\n",
    "import os\n",
    "import matplotlib.pyplot as plt\n",
    "import matplotlib.transforms\n",
    "import pandas as pd\n",
    "import random\n",
    "import statsmodels.api as sm\n",
    "from statsmodels.regression.rolling import RollingOLS"
   ]
  },
  {
   "cell_type": "code",
   "execution_count": null,
   "metadata": {},
   "outputs": [],
   "source": [
    "os.chdir('D:\\Documents\\MGT 6090\\Assignment 9')"
   ]
  },
  {
   "cell_type": "code",
   "execution_count": null,
   "metadata": {},
   "outputs": [],
   "source": [
    "# generate matplotlib table and output \n",
    "def df_out(df, out_file, col_labels, row_labels, dpi_val, font_size):\n",
    "    plt.figure()\n",
    "    # generate table\n",
    "    if col_labels and row_labels:\n",
    "        table = plt.table(cellText=df.values, colLabels=df.columns, rowLabels=df.index, loc='center')\n",
    "    elif col_labels and not row_labels:\n",
    "        table = plt.table(cellText=df.values, colLabels=df.columns, loc='center')\n",
    "    elif not col_labels and row_labels:\n",
    "        table = plt.table(cellText=df.values, rowLabels=df.index, loc='center')\n",
    "    else:\n",
    "        table = plt.table(cellText=df.values, loc='center')\n",
    "    table.auto_set_font_size(False)    \n",
    "    table.set_fontsize(font_size)\n",
    "    table.auto_set_column_width(col=list(range(len(df.columns))))\n",
    "#     table.auto_set_column_width(col=len(df.columns) + 1)\n",
    "    plt.axis('off')\n",
    "    plt.grid('off')\n",
    "    plt.tight_layout()\n",
    "    # draw canvas once\n",
    "    plt.gcf().canvas.draw()\n",
    "    # get bounding box of table\n",
    "    points = table.get_window_extent(plt.gcf()._cachedRenderer).get_points()\n",
    "    # add 10 pixel spacing\n",
    "    points[0,:] -= 10; points[1,:] += 10\n",
    "    # get new bounding box in inches\n",
    "    nbbox = matplotlib.transforms.Bbox.from_extents(points/plt.gcf().dpi)\n",
    "    # save and clip by new bounding box\n",
    "    plt.savefig(out_file, bbox_inches=nbbox, dpi=dpi_val)\n",
    "    return"
   ]
  },
  {
   "cell_type": "code",
   "execution_count": null,
   "metadata": {},
   "outputs": [],
   "source": [
    "gtID_seed = 902953178\n",
    "np.random.seed(gtID_seed)\n",
    "rand_num = np.random.randint(1, 130)\n",
    "# 104\n",
    "# Hilltop Holdings, Inc."
   ]
  },
  {
   "cell_type": "code",
   "execution_count": null,
   "metadata": {},
   "outputs": [],
   "source": [
    "# import ownership data\n",
    "ownership = pd.read_excel(\"HTH_ownership.xlsx\", sheet_name=None)\n",
    "\n",
    "# format and output ownership breakdown table\n",
    "ownership['Major Holders'].rename(columns={'Unnamed: 1' : 'Ownership'}, inplace=True)\n",
    "# multiply percent values\n",
    "ownership['Major Holders'].loc[0:3, 'Breakdown'] = ownership['Major Holders'].loc[0:3, 'Breakdown'] * 100\n",
    "ownership['Major Holders'] = ownership['Major Holders'].reindex(columns=['Ownership', 'Breakdown'])\n",
    "df_out(ownership['Major Holders'], 'major_holders.pdf', True, False, 1400, 7)\n",
    "\n",
    "# format and output top institutional holders\n",
    "ownership['Top Institutional Holders'].loc[:, '% Out'] = round(ownership['Top Institutional Holders'].loc[:, '% Out'] * 100, 2)\n",
    "df_out(ownership['Top Institutional Holders'].iloc[:, [0,1,3,4]], 'top_inst_holders.pdf', True, False, 4000, 3.5)\n",
    "\n",
    "# format and output top insider holders\n",
    "ownership['Insider Roster'] = ownership['Insider Roster'].dropna()\n",
    "# format date\n",
    "ownership['Insider Roster'].loc[:, 'Date'] = ownership['Insider Roster'].loc[:, 'Date'].dt.date\n",
    "# format names\n",
    "ownership['Insider Roster'].loc[:, 'Individual or Entity'] = ownership['Insider Roster'].loc[:, 'Individual or Entity'].str.title()\n",
    "df_out(ownership['Insider Roster'], 'top_insider_holders.pdf', True, False, 3000, 5)\n",
    "\n",
    "# format and output top insider transaction info\n",
    "ownership['Insider Transactions - 6 Month'].rename(columns={'Insider Purchases Last 6 Months' : 'Last 6 Months', 'Trans' : 'Transactions'}, inplace=True)\n",
    "# fix nan values\n",
    "ownership['Insider Transactions - 6 Month'].loc[pd.isna(ownership['Insider Transactions - 6 Month']['Transactions']), 'Transactions'] = -1\n",
    "ownership['Insider Transactions - 6 Month']['Transactions'] = round(ownership['Insider Transactions - 6 Month']['Transactions']).astype(int).astype(str)\n",
    "ownership['Insider Transactions - 6 Month'].loc[ownership['Insider Transactions - 6 Month']['Transactions'] == '-1', 'Transactions'] = 'N/A'\n",
    "# multiply percent values\n",
    "ownership['Insider Transactions - 6 Month'].loc[4, 'Shares'] = ownership['Insider Transactions - 6 Month'].loc[4, 'Shares'] * 100\n",
    "df_out(ownership['Insider Transactions - 6 Month'], 'insider_last_6mo.pdf', True, False, 2100, 7)"
   ]
  },
  {
   "cell_type": "code",
   "execution_count": 287,
   "metadata": {},
   "outputs": [
    {
     "data": {
      "text/plain": [
       "<Figure size 432x216 with 0 Axes>"
      ]
     },
     "execution_count": 287,
     "metadata": {},
     "output_type": "execute_result"
    },
    {
     "data": {
      "text/plain": [
       "[<matplotlib.lines.Line2D at 0x2340a1060c8>,\n",
       " <matplotlib.lines.Line2D at 0x2340bfea988>]"
      ]
     },
     "execution_count": 287,
     "metadata": {},
     "output_type": "execute_result"
    },
    {
     "data": {
      "text/plain": [
       "Text(0.5, 0, 'Date')"
      ]
     },
     "execution_count": 287,
     "metadata": {},
     "output_type": "execute_result"
    },
    {
     "data": {
      "text/plain": [
       "Text(0, 0.5, 'Compounded Returns')"
      ]
     },
     "execution_count": 287,
     "metadata": {},
     "output_type": "execute_result"
    },
    {
     "data": {
      "text/plain": [
       "<matplotlib.legend.Legend at 0x2340716da88>"
      ]
     },
     "execution_count": 287,
     "metadata": {},
     "output_type": "execute_result"
    },
    {
     "data": {
      "text/plain": [
       "<Figure size 432x216 with 0 Axes>"
      ]
     },
     "execution_count": 287,
     "metadata": {},
     "output_type": "execute_result"
    },
    {
     "data": {
      "text/plain": [
       "[<matplotlib.lines.Line2D at 0x2340c089b48>]"
      ]
     },
     "execution_count": 287,
     "metadata": {},
     "output_type": "execute_result"
    },
    {
     "data": {
      "text/plain": [
       "Text(0.5, 0, 'Date')"
      ]
     },
     "execution_count": 287,
     "metadata": {},
     "output_type": "execute_result"
    },
    {
     "data": {
      "text/plain": [
       "Text(0, 0.5, 'Beta')"
      ]
     },
     "execution_count": 287,
     "metadata": {},
     "output_type": "execute_result"
    },
    {
     "data": {
      "text/plain": [
       "<Figure size 432x216 with 0 Axes>"
      ]
     },
     "execution_count": 287,
     "metadata": {},
     "output_type": "execute_result"
    },
    {
     "data": {
      "text/plain": [
       "[<matplotlib.lines.Line2D at 0x2340c16c1c8>]"
      ]
     },
     "execution_count": 287,
     "metadata": {},
     "output_type": "execute_result"
    },
    {
     "data": {
      "text/plain": [
       "Text(0.5, 0, 'Date')"
      ]
     },
     "execution_count": 287,
     "metadata": {},
     "output_type": "execute_result"
    },
    {
     "data": {
      "text/plain": [
       "Text(0, 0.5, 'Volatility')"
      ]
     },
     "execution_count": 287,
     "metadata": {},
     "output_type": "execute_result"
    },
    {
     "data": {
      "image/png": "[encoded data removed]",
      "text/plain": [
       "<Figure size 432x216 with 1 Axes>"
      ]
     },
     "metadata": {
      "needs_background": "light"
     },
     "output_type": "display_data"
    },
    {
     "data": {
      "image/png": "[encoded data removed]",
      "text/plain": [
       "<Figure size 432x216 with 1 Axes>"
      ]
     },
     "metadata": {
      "needs_background": "light"
     },
     "output_type": "display_data"
    },
    {
     "data": {
      "image/png": "[encoded data removed]",
      "text/plain": [
       "<Figure size 432x216 with 1 Axes>"
      ]
     },
     "metadata": {
      "needs_background": "light"
     },
     "output_type": "display_data"
    }
   ],
   "source": [
    "# import monthly return data\n",
    "hth_ret = pd.read_csv(\"crsp_msf.csv\", usecols=['DATE', 'TICKER', 'RET', 'VWRETD'], parse_dates=['DATE'], \n",
    "                  dtype={'TICKER': pd.StringDtype(), 'RET': float, 'VWRETD': float})\n",
    "# filter to HTH data\n",
    "hth_ret = hth_ret[hth_ret['TICKER'] == 'HTH']\n",
    "# add month_year column\n",
    "hth_ret['month_year'] = hth_ret['DATE'].dt.strftime(\"%Y%m\").astype(int)\n",
    "\n",
    "# import rf data\n",
    "ff = pd.read_csv(\"F-F_Research_Data_Factors.csv\", skiprows=4, nrows=1129, names=['month_year', 'Mkt-RF', 'SMB', 'HML', 'RF'], \n",
    "                 dtype={'month_year': int, 'Mkt-RF': float, 'SMB': float, 'HML': float, 'RF': float})\n",
    "# filter to desired dates\n",
    "rf = ff.loc[(ff['month_year'] >= 200901) & (ff['month_year'] <= 201912), ['month_year', 'RF']]\n",
    "\n",
    "# join data\n",
    "hth_ret = pd.merge(hth_ret, rf, how='right', on='month_year')\n",
    "\n",
    "# calculate excess returns\n",
    "hth_ret['hth_excess'] = hth_ret['RET'] - (hth_ret['RF'] / 100)\n",
    "hth_ret['mkt_excess'] = hth_ret['VWRETD'] - (hth_ret['RF'] / 100)\n",
    "\n",
    "\n",
    "# calculate trailing 12 month betas\n",
    "betas = RollingOLS(hth_ret['hth_excess'], sm.add_constant(hth_ret['mkt_excess']), window=12).fit()\n",
    "hth_ret['beta'] = betas.params['mkt_excess']\n",
    "\n",
    "# calculate trailing 12 month annualized volatility of log returns\n",
    "hth_ret['volatility'] = np.sqrt(np.log(1 + hth_ret['RET']).rolling(12).var() * 12)\n",
    "\n",
    "# calculate compound hth and market returns over last 11 years\n",
    "hth_ret['compound_hth'] = np.cumprod(1 + hth_ret['RET'])\n",
    "hth_ret['compound_mkt'] = np.cumprod(1 + hth_ret['VWRETD'])\n",
    "\n",
    "\n",
    "# plot returns\n",
    "plt.figure(figsize=(6, 3))\n",
    "plt.plot(hth_ret['DATE'], hth_ret['compound_hth'], hth_ret['DATE'], hth_ret['compound_mkt'])\n",
    "plt.xlabel('Date')\n",
    "plt.ylabel('Compounded Returns')\n",
    "plt.legend(['HTH', 'Market'])\n",
    "plt.tight_layout()\n",
    "plt.savefig(\"returns.pdf\")\n",
    "\n",
    "# plot betas\n",
    "plt.figure(figsize=(6, 3))\n",
    "plt.plot(hth_ret['DATE'], hth_ret['beta'])\n",
    "plt.xlabel('Date')\n",
    "plt.ylabel('Beta')\n",
    "plt.tight_layout()\n",
    "plt.savefig(\"beta.pdf\")\n",
    "\n",
    "# plot volatility\n",
    "plt.figure(figsize=(6, 3))\n",
    "plt.plot(hth_ret['DATE'], hth_ret['volatility'])\n",
    "plt.xlabel('Date')\n",
    "plt.ylabel('Volatility')\n",
    "plt.tight_layout()\n",
    "plt.savefig(\"volatility.pdf\")"
   ]
  },
  {
   "cell_type": "code",
   "execution_count": null,
   "metadata": {},
   "outputs": [],
   "source": [
    "# import short volume data\n",
    "hth_short = pd.read_excel(\"HTH_short.xlsx\", sheet_name='short')\n",
    "hth_short = hth_short.iloc[:, np.r_[0:3, 5]]\n",
    "# format date\n",
    "hth_short['Date'] = hth_short['Date'].dt.date\n",
    "# write to pdf\n",
    "df_out(hth_short, 'short.pdf', True, False, 1200, 7)"
   ]
  },
  {
   "cell_type": "code",
   "execution_count": 290,
   "metadata": {},
   "outputs": [
    {
     "data": {
      "image/png": "[encoded data removed]",
      "text/plain": [
       "<Figure size 432x288 with 1 Axes>"
      ]
     },
     "metadata": {
      "needs_background": "light"
     },
     "output_type": "display_data"
    }
   ],
   "source": [
    "# import fitch ratings\n",
    "hth_fitch = pd.read_excel(\"hth_fitch.xlsx\", usecols=['RATED ENTITY / DEBT', 'RATING TYPE', 'RATING', 'DATE'], parse_dates=['DATE'],\n",
    "                         dtype={'RATED ENTITY / DEBT': pd.StringDtype(), 'RATING TYPE' : pd.StringDtype(), 'RATING': pd.StringDtype()})\n",
    "hth_fitch['DATE'] = hth_fitch['DATE'].dt.date\n",
    "# change column capitalization\n",
    "hth_fitch.columns = [x.title() for x in hth_fitch.columns]\n",
    "df_out(hth_fitch, 'hth_fitch.pdf', True, False, 1200, 7)"
   ]
  },
  {
   "cell_type": "code",
   "execution_count": null,
   "metadata": {},
   "outputs": [],
   "source": [
    "# import analyst ratings\n",
    "hth_analyst = pd.read_excel(\"hth_analyst.xlsx\", usecols=['Date', 'Brokerage', 'Action', 'Rating', 'Price Target'], parse_dates=['Date'],\n",
    "                           dtype={'Brokerage': pd.StringDtype(), 'Action': pd.StringDtype(), 'Rating': pd.StringDtype(), 'Price Target': pd.StringDtype()})\n",
    "# format date\n",
    "hth_analyst['Date'] = hth_analyst['Date'].dt.date\n",
    "df_out(hth_analyst, 'hth_analyst.pdf', True, False, 1200, 7)"
   ]
  },
  {
   "cell_type": "code",
   "execution_count": null,
   "metadata": {},
   "outputs": [],
   "source": [
    "# import bhc performance report data\n",
    "bhc = pd.read_csv(\"BHCPR_3838727_20191231.csv\", usecols=['ItemName', 'Description', 'Value'],\n",
    "                 dtype=pd.StringDtype())"
   ]
  },
  {
   "cell_type": "code",
   "execution_count": null,
   "metadata": {},
   "outputs": [],
   "source": [
    "def get_bhc_val(bhc, val_type, descript):\n",
    "    if val_type == 'Peer Group':\n",
    "        new_descript = 'PG RATIO: ' + descript\n",
    "    elif val_type == 'Percentile':\n",
    "        new_descript = 'PG RANK: ' + descript\n",
    "    else:\n",
    "        new_descript = descript\n",
    "    # get value with given description as float, reverse list so data is in chronological order\n",
    "    vals = bhc.loc[bhc['Description'] == new_descript, 'Value'].astype(float).tolist()\n",
    "    vals.reverse()\n",
    "    return vals\n",
    "    \n",
    "def get_bhc_vals(bhc, incl_pg, incl_pct, descript):\n",
    "    vals = []\n",
    "    vals.append(['HTH'] + get_bhc_val(bhc, 'HTH', descript))\n",
    "    if incl_pg:\n",
    "        vals.append(['Peer Group'] + get_bhc_val(bhc, 'Peer Group', descript))\n",
    "    if incl_pct:\n",
    "        vals.append(['Percentile'] + get_bhc_val(bhc, 'Percentile', descript))\n",
    "    return vals"
   ]
  },
  {
   "cell_type": "code",
   "execution_count": 288,
   "metadata": {},
   "outputs": [],
   "source": [
    "# earnings as percent of average assets\n",
    "earnings = get_bhc_vals(bhc, True, True, 'NET INCOME / AVERAGE ASSETS')\n",
    "\n",
    "# net interest margins as percent of average earning assets\n",
    "net_interest_margins = get_bhc_vals(bhc, True, True, 'NET INTEREST INCOME (TE) / AVERAGE EARNED ASSETS')\n",
    "\n",
    "# non interest income as percent of average assets\n",
    "non_interest_income = get_bhc_vals(bhc, True, True, 'NON-INTEREST INCOME / AVERAGE ASSETS')\n",
    "\n",
    "# revenue as percent of average assets\n",
    "revenue = []\n",
    "revenue.append(['Revenue'] + \n",
    "               np.round(np.array(get_bhc_val(bhc, 'HTH', 'INTEREST INCOME (TE) / AVERAGE ASSETS')) + \n",
    "                        np.array(get_bhc_val(bhc, 'HTH', 'NON-INTEREST INCOME / AVERAGE ASSETS')), 2).tolist())\n",
    "\n",
    "# expenses as percent of average assets\n",
    "expenses = []\n",
    "expenses.append(['Expenses'] + \n",
    "                np.round(np.array(revenue[0][1:6]) - \n",
    "                         np.array(earnings[0][1:6]), 2).tolist())\n",
    "\n",
    "# loans as percent of gross loans and leases\n",
    "loans = [['Real Estate'] + get_bhc_val(bhc, 'HTH', 'REAL ESTATE LOANS / GROSS LOANS AND LEASES'),\n",
    "         ['Depository Institutions'] + get_bhc_val(bhc, 'HTH', 'LOANS TO DEPOSITORY INSTITUTIONS / GROSS LOANS AND LEASES'), \n",
    "         ['Commercial and Industrial'] + get_bhc_val(bhc, 'HTH', 'COMMERCIAL & INDUSTRIAL LOANS / GROSS LOANS AND LEASES'),\n",
    "         ['Individuals'] + get_bhc_val(bhc, 'HTH', 'LOANS TO INDIVIDUALS / GROSS LOANS AND LEASES'),\n",
    "         ['Agricultural'] + get_bhc_val(bhc, 'HTH', 'AGRICULTURAL LOANS / GROSS LOANS & LEASES'),\n",
    "         ['Other'] + get_bhc_val(bhc, 'HTH', 'OTHER LOANS AND LEASES / GROSS LOANS AND LEASES')]\n",
    "\n",
    "# net loan/lease loss over average loan/lease\n",
    "loan_loss = get_bhc_vals(bhc, True, True, 'NET LOAN & LEASE LOSSES / AVERAGE LOANS & LEASES')\n",
    "\n",
    "# past due loans/leases as percent of loans/leases\n",
    "past_due = [['30-89 Days Past Due'] + get_bhc_val(bhc, 'HTH', 'TOTAL 30-89 DAYS PAST DUE / TOTAL LOANS & LEASES (CONFIDENTIAL PRIOR TO MARCH 2001)'),\n",
    "            ['90+ Days Past Due'] + get_bhc_val(bhc, 'HTH', '90+ DAYS PAST DUE ASSETS / TOTAL LOANS AND LEASES'),\n",
    "            ['Nonaccrual'] + get_bhc_val(bhc, 'HTH', 'NONACCRUAL ASSETS / TOTAL LOANS AND LEASES')]\n",
    "\n",
    "\n",
    "# loan loss reserves / total loans/leases\n",
    "reserves = get_bhc_vals(bhc, True, True, 'ALLOWANCE FOR LOAN & LEASE LOSSES / TOTAL LOANS & LEASES')\n",
    "\n",
    "# liquidity and funding as percent of total assets\n",
    "liquidity = [['Short-Term Investments'] + get_bhc_val(bhc, 'HTH', 'SHORT-TERM INVESTMENTS / CONSOLIDATED ASSETS'),\n",
    "             ['Liquid Assets'] + get_bhc_val(bhc, 'HTH', 'LIQUID ASSETS / TOTAL ASSETS'),\n",
    "             ['Investment Securities'] + get_bhc_val(bhc, 'HTH', 'INVESTMENT SECURITIES / CONSOLIDATED ASSETS'),\n",
    "             ['Net Loans and Leases'] + get_bhc_val(bhc, 'HTH', 'NET LOANS AND LEASES / TOTAL ASSETS'),\n",
    "             ['Core Deposits'] + get_bhc_val(bhc, 'HTH', 'CORE DEPOSITS / TOTAL ASSETS'),\n",
    "             ['Noncore Funding'] + get_bhc_val(bhc, 'HTH', 'NONCORE FUNDING / TOTAL ASSETS'),\n",
    "             ['Time Deposits of $250K or More'] + [np.nan, np.nan] + get_bhc_val(bhc, 'HTH', 'TIME DEPOSITS OF $250K OR MORE / TOTAL ASSETS'),\n",
    "             ['Foreign Deposits'] + get_bhc_val(bhc, 'HTH', 'FOREIGN DEPOSITS / CONSOLIDATED ASSETS'),\n",
    "             ['Federal Funds Purchased and Repos'] + get_bhc_val(bhc, 'HTH', 'FEDERAL FUNDS PURCHASED & REPOS / CONSOLIDATED ASSETS')]\n",
    "\n",
    "# capitalization ratios\n",
    "capitalization = [['Tier 1 Leverage Ratio'] + get_bhc_val(bhc, 'HTH', 'TIER 1 LEVERAGE RATIO')[3:8],\n",
    "                  ['Holding Company Equity Capital / Total Assets'] + get_bhc_val(bhc, 'HTH', 'TOTAL EQUITY CAPITAL / TOTAL ASSETS'),\n",
    "                  ['Total Equity Capital Including Minority Interest / Total Assets'] + get_bhc_val(bhc, 'HTH', 'EQUITY CAP & NONCONTROL (MINORITY) INTEREST / T. ASSETS'),\n",
    "                  ['Common Equity Tier 1 Capital / Total Risk-Weighted Assets'] + get_bhc_val(bhc, 'HTH', 'TIER 1 COMMON EQUITY TO RISK WEIGHTED ASSETS'),\n",
    "                  ['Net Loans and Leases / Equity Capital (X)'] + get_bhc_val(bhc, 'HTH', 'NET LOANS AND LEASES / TOTAL EQUITY CAPITAL (X)'),\n",
    "                  ['Cash Dividends / Net Income'] + get_bhc_val(bhc, 'HTH', 'DIVIDENDS / NET INCOME')]\n",
    "\n",
    "# 12 month growth rates\n",
    "growth_rates = [['Assets'] + get_bhc_val(bhc, 'HTH', 'PERCENT CHANGE: TOTAL ASSETS'),\n",
    "                ['Equity Capital'] + get_bhc_val(bhc, 'HTH', 'EQUITY CAPITAL GROWTH RATE'),\n",
    "                ['Net Loans and Leases'] + get_bhc_val(bhc, 'HTH', 'PERCENT CHANGE: NET LOANS AND LEASES'),\n",
    "                ['Noncore Funding'] + get_bhc_val(bhc, 'HTH', 'PERCENT CHANGE: NONCORE FUNDING')]\n",
    "\n",
    "# percent composition of assets\n",
    "asset_comp = [['Real Estate Loans'] + get_bhc_val(bhc, 'HTH', 'REAL ESTATE LOANS / CONSOLIDATED ASSETS'),\n",
    "              ['Commercial and Industrial Loans'] + get_bhc_val(bhc, 'HTH', 'COMMERCIAL AND INDUSTRIAL LOANS / CONSOLIDATED ASSETS'),\n",
    "              ['Loans to Individuals'] + get_bhc_val(bhc, 'HTH', 'LOANS TO INDIVIDUALS / CONSOLIDATED ASSETS'),\n",
    "              ['Loans to Depository Institutions'] + get_bhc_val(bhc, 'HTH', 'LOANS TO DEPOSITORY INSTITUTIONS / CONSOLIDATED ASSETS'),\n",
    "              ['Agricultural Loans'] + get_bhc_val(bhc, 'HTH', 'AGRICULTURAL LOANS / CONSOLIDATED ASSETS'),\n",
    "              ['Other Loans and Leases'] + get_bhc_val(bhc, 'HTH', 'OTHER LOANS AND LEASES / CONSOLIDATED ASSETS'),\n",
    "              ['Debt Securities Over 1 Year'] + get_bhc_val(bhc, 'HTH', 'SECURITIES OVER 1 YEAR / CONSOLIDATED ASSETS'),\n",
    "              ['Mutual Funds and Equity Securities'] + get_bhc_val(bhc, 'HTH', 'MUTUAL FUNDS AND EQUITY SECURITIES / CONSOLIDATED ASSETS'),\n",
    "              ['Interest-Bearing Bank Balances'] + get_bhc_val(bhc, 'HTH', 'INTEREST-BEARING BANK BALANCES / CONSOLIDATED ASSETS'),\n",
    "              ['Federal Funds Sold and Reverse Repos'] + get_bhc_val(bhc, 'HTH', 'FEDERAL FUNDS SOLD AND REVERSE REPOS / CONSOLIDATED ASSETS'),\n",
    "              ['Debt Securities 1 Year or Less'] + get_bhc_val(bhc, 'HTH', 'DEBT SECURITIES 1 YR OR LESS / CONSOLIDATED ASSETS'),\n",
    "              ['Trading Assets'] + get_bhc_val(bhc, 'HTH', 'TRADING ACCOUNT ASSETS / CONSOLIDATED ASSETS'),\n",
    "              ['Non-Interest Cash and Due from Depository Insitutions'] + get_bhc_val(bhc, 'HTH', 'NON-INTEREST-BEARING CASH & DUE FROM BANKS / CONSOLIDATED ASSETS'),\n",
    "              ['Other Real Estate Owned'] + get_bhc_val(bhc, 'HTH', 'OTHER REAL ESTATE OWNED / CONSOLIDATED ASSETS'),\n",
    "              ['All Other Assets'] + get_bhc_val(bhc, 'HTH', 'ALL OTHER ASSETS / CONSOLIDATED ASSETS')]\n",
    "\n",
    "# get total liabilities over 100 to pre-emptively convert to percents\n",
    "total_liabilities = np.array(get_bhc_val(bhc, 'HTH', 'TOTAL LIABILITIES')[5:10]) / 100\n",
    "# calculate percent composition of liabilities\n",
    "liability_comp = [['Demand Deposits'] + np.divide(np.array(get_bhc_val(bhc, 'HTH', 'NONINTEREST-BEARING BALANCES (BHC CONSOL. COMML. BANKS)')), total_liabilities).tolist(),\n",
    "                  ['NOW, ATS, and Transaction Accounts'] + np.divide(np.array(get_bhc_val(bhc, 'HTH', 'NOW, ATS AND TRANSACTION ACCOUNTS')), total_liabilities).tolist(),\n",
    "                  ['Time Deposits Less Brokered Deposits < $250K'] + np.divide(np.array([np.nan, np.nan] + get_bhc_val(bhc, 'HTH', 'TIME DEPOSITS (EXCLUDING BROKERED DEPOSITS) < $250K')), total_liabilities).tolist(),\n",
    "                  ['MMDA and Other Savings Accounts'] + np.divide(np.array(get_bhc_val(bhc, 'HTH', 'MMDA & OTHER SAVINGS ACCOUNTS')), total_liabilities).tolist(),\n",
    "                  ['Time Deposits of $250K or More'] + np.divide(np.array([np.nan, np.nan] + get_bhc_val(bhc, 'HTH', 'TIME DEPOSITS OF $250K OR MORE')[0:3]), total_liabilities).tolist(),\n",
    "                  ['Foreign Deposits'] + np.divide(np.array(get_bhc_val(bhc, 'HTH', 'FOREIGN DEPOSITS')), total_liabilities).tolist(),\n",
    "                  ['Federal Funds Purchased and Repos'] + np.divide(np.array(get_bhc_val(bhc, 'HTH', 'FEDERAL FUNDS PURCHASED AND SECURITIES SOLD (REPOS)')), total_liabilities).tolist(),\n",
    "                  ['Other Borrowings with Remaining Maturity 1 Year Or Less'] + np.divide(np.array(get_bhc_val(bhc, 'HTH', 'OTHER BORROWED MONEY WITH A REMAINING MATURITY OF 1 YR OR LESS (BHC CONSOLIDATED)')), total_liabilities).tolist(),\n",
    "                  ['Other Borrowings with Remaining Maturity Over 1 Year'] + np.divide(np.array(get_bhc_val(bhc, 'HTH', 'OTHER BORROWED MONEY WITH A REMAINING MATURITY OF MORE THAN ONE YEAR')), total_liabilities).tolist(),\n",
    "                  ['Brokered Deposits < $250K'] + np.divide(np.array([np.nan, np.nan] + get_bhc_val(bhc, 'HTH', 'BROKERED DEPOSITS < $250K')), total_liabilities).tolist(),\n",
    "                  ['Trading Liabilities'] + np.divide(np.array(get_bhc_val(bhc, 'HTH', 'TRADING LIABILITIES')), total_liabilities).tolist(),\n",
    "                  ['Subordinated Notes and Debentures and Trust Preferred Securities'] + np.divide(np.array(get_bhc_val(bhc, 'HTH', 'SUBORDINATED NOTES AND DEBENTURES (CONSOLIDATED)')), total_liabilities).tolist(),\n",
    "                  ['Other Liabilities'] + np.divide(np.array(get_bhc_val(bhc, 'HTH', 'OTHER LIAB.')), total_liabilities).tolist()]\n"
   ]
  },
  {
   "cell_type": "code",
   "execution_count": 304,
   "metadata": {},
   "outputs": [
    {
     "data": {
      "text/plain": [
       "[['Tier 1 Leverage Ratio', 91.0, 95.0, 94.0, 94.0, 93.0],\n",
       " ['Holding Company Equity Capital / Total Assets',\n",
       "  90.0,\n",
       "  88.0,\n",
       "  80.0,\n",
       "  77.0,\n",
       "  68.0],\n",
       " ['Total Equity Capital Including Minority Interest / Total Assets',\n",
       "  88.0,\n",
       "  88.0,\n",
       "  80.0,\n",
       "  78.0,\n",
       "  69.0],\n",
       " ['Common Equity Tier 1 Capital / Total Risk-Weighted Assets',\n",
       "  92.0,\n",
       "  96.0,\n",
       "  93.0,\n",
       "  88.0,\n",
       "  91.0],\n",
       " ['Net Loans and Leases / Equity Capital (X)', 21.0, 23.0, 24.0, 26.0, 33.0],\n",
       " ['Cash Dividends / Net Income', 16.0, 14.0, 24.0, 30.0, 17.0]]"
      ]
     },
     "execution_count": 304,
     "metadata": {},
     "output_type": "execute_result"
    },
    {
     "data": {
      "text/plain": [
       "[['Assets', 93.0, 60.0, 50.0, 29.0, 69.0],\n",
       " ['Equity Capital', 91.0, 63.0, 25.0, 30.0, 52.0],\n",
       " ['Net Loans and Leases', 87.0, 70.0, 29.0, 22.0, 77.0],\n",
       " ['Noncore Funding', 57.0, 70.0, 27.0, 12.0, 86.0]]"
      ]
     },
     "execution_count": 304,
     "metadata": {},
     "output_type": "execute_result"
    }
   ],
   "source": [
    "capitalization_percent = [['Tier 1 Leverage Ratio'] + get_bhc_val(bhc, 'Percentile', 'TIER 1 LEVERAGE RATIO')[3:8],\n",
    "                          ['Holding Company Equity Capital / Total Assets'] + get_bhc_val(bhc, 'Percentile', 'TOTAL EQUITY CAPITAL / TOTAL ASSETS'),\n",
    "                          ['Total Equity Capital Including Minority Interest / Total Assets'] + get_bhc_val(bhc, 'Percentile', 'EQUITY CAP & NONCONTROL (MINORITY) INTEREST / T. ASSETS'),\n",
    "                          ['Common Equity Tier 1 Capital / Total Risk-Weighted Assets'] + get_bhc_val(bhc, 'Percentile', 'TIER 1 COMMON EQUITY TO RISK WEIGHTED ASSETS'),\n",
    "                          ['Net Loans and Leases / Equity Capital (X)'] + get_bhc_val(bhc, 'Percentile', 'NET LOANS AND LEASES / TOTAL EQUITY CAPITAL (X)'),\n",
    "                          ['Cash Dividends / Net Income'] + get_bhc_val(bhc, 'Percentile', 'DIVIDENDS / NET INCOME')]\n",
    "\n",
    "growth_rates_percent = [['Assets'] + get_bhc_val(bhc, 'Percentile', 'PERCENT CHANGE: TOTAL ASSETS'),\n",
    "                        ['Equity Capital'] + get_bhc_val(bhc, 'Percentile', 'EQUITY CAPITAL GROWTH RATE'),\n",
    "                        ['Net Loans and Leases'] + get_bhc_val(bhc, 'Percentile', 'PERCENT CHANGE: NET LOANS AND LEASES'),\n",
    "                        ['Noncore Funding'] + get_bhc_val(bhc, 'Percentile', 'PERCENT CHANGE: NONCORE FUNDING')]\n"
   ]
  },
  {
   "cell_type": "code",
   "execution_count": 295,
   "metadata": {},
   "outputs": [],
   "source": [
    "# plot dataframe with one or two subplots\n",
    "def plot_df(df, legend_on, num_plots, plot1_num_lines, y_name, out_file, fig_size=(5,5), \n",
    "            legend_loc=None, legend_bbox=None, legend_ncol=1):\n",
    "    plt.figure()\n",
    "    df_cols = df.columns.tolist()\n",
    "    if num_plots == 1:\n",
    "        # if one plot initialize ax1\n",
    "        fig, ax1 = plt.subplots(figsize=fig_size)\n",
    "    if num_plots == 2:\n",
    "        # if two plots intialize ax1, ax2 and set ax2 values\n",
    "        fig, (ax1, ax2) = plt.subplots(1, 2, figsize=fig_size)\n",
    "        ax2.plot('Years', 'Percentile', 'g-', data=df)\n",
    "        ax2.set_ylim(0, 100)\n",
    "        ax2.set_xlabel('Fiscal Year')\n",
    "        ax2.set_ylabel('HTH Percentile')\n",
    "    \n",
    "    # plot all other vals, increment df_cols by one because of years column\n",
    "    for i in range(plot1_num_lines):\n",
    "        ax1.plot('Years', df_cols[i+1], data=df)\n",
    "    # set ax1 values\n",
    "    ax1.set_xlabel('Fiscal Year')\n",
    "    ax1.set_ylabel(y_name)\n",
    "    if legend_on:\n",
    "        if legend_loc is None and legend_bbox is None:\n",
    "            ax1.legend()\n",
    "        else:\n",
    "            ax1.legend(bbox_to_anchor=legend_bbox, loc = legend_loc, ncol=legend_ncol)\n",
    "    plt.subplots_adjust(hspace=0.5)\n",
    "    plt.tight_layout()\n",
    "    plt.savefig(out_file)\n",
    "    plt.close()\n",
    "    return\n",
    "\n",
    "# turn list of lists into dataframe, add years, transpose and format\n",
    "def list2d_to_df(list_2d):\n",
    "    years_list = ['Years', '2015', '2016', '2017', '2018', '2019']\n",
    "    df = pd.DataFrame([years_list] + list_2d).T\n",
    "    df = df.rename(columns=df.iloc[0]).drop(df.index[0])\n",
    "    return df"
   ]
  },
  {
   "cell_type": "code",
   "execution_count": 306,
   "metadata": {},
   "outputs": [
    {
     "data": {
      "text/plain": [
       "<Figure size 432x288 with 0 Axes>"
      ]
     },
     "metadata": {},
     "output_type": "display_data"
    },
    {
     "data": {
      "text/plain": [
       "<Figure size 432x288 with 0 Axes>"
      ]
     },
     "metadata": {},
     "output_type": "display_data"
    },
    {
     "data": {
      "text/plain": [
       "<Figure size 432x288 with 0 Axes>"
      ]
     },
     "metadata": {},
     "output_type": "display_data"
    },
    {
     "data": {
      "text/plain": [
       "<Figure size 432x288 with 0 Axes>"
      ]
     },
     "metadata": {},
     "output_type": "display_data"
    },
    {
     "data": {
      "text/plain": [
       "<Figure size 432x288 with 0 Axes>"
      ]
     },
     "metadata": {},
     "output_type": "display_data"
    },
    {
     "data": {
      "text/plain": [
       "<Figure size 432x288 with 0 Axes>"
      ]
     },
     "metadata": {},
     "output_type": "display_data"
    },
    {
     "data": {
      "text/plain": [
       "<Figure size 432x288 with 0 Axes>"
      ]
     },
     "metadata": {},
     "output_type": "display_data"
    },
    {
     "data": {
      "text/plain": [
       "<Figure size 432x288 with 0 Axes>"
      ]
     },
     "metadata": {},
     "output_type": "display_data"
    },
    {
     "data": {
      "text/plain": [
       "<Figure size 432x288 with 0 Axes>"
      ]
     },
     "metadata": {},
     "output_type": "display_data"
    },
    {
     "data": {
      "text/plain": [
       "<Figure size 432x288 with 0 Axes>"
      ]
     },
     "metadata": {},
     "output_type": "display_data"
    },
    {
     "data": {
      "text/plain": [
       "<Figure size 432x288 with 0 Axes>"
      ]
     },
     "metadata": {},
     "output_type": "display_data"
    },
    {
     "data": {
      "text/plain": [
       "<Figure size 432x288 with 0 Axes>"
      ]
     },
     "metadata": {},
     "output_type": "display_data"
    },
    {
     "data": {
      "text/plain": [
       "<Figure size 432x288 with 0 Axes>"
      ]
     },
     "metadata": {},
     "output_type": "display_data"
    },
    {
     "data": {
      "text/plain": [
       "<Figure size 432x288 with 0 Axes>"
      ]
     },
     "metadata": {},
     "output_type": "display_data"
    },
    {
     "data": {
      "text/plain": [
       "<Figure size 432x288 with 0 Axes>"
      ]
     },
     "metadata": {},
     "output_type": "display_data"
    }
   ],
   "source": [
    "# use above helper functions to plot all values\n",
    "plot_df(list2d_to_df(earnings), True, 2, 2, 'Earnings', 'earnings.pdf', fig_size=(11, 3))\n",
    "plot_df(list2d_to_df(net_interest_margins), True, 2, 2, 'Net Interest Margins', 'net_interest_margins.pdf', fig_size=(11, 3))\n",
    "plot_df(list2d_to_df(non_interest_income), True, 2, 2, 'Non-Interest Income', 'non_interest_income.pdf', fig_size=(11, 3))\n",
    "plot_df(list2d_to_df(revenue + expenses), True, 1, 2, 'Percent of Average Assets', 'revenue_expenses.pdf', fig_size=(6, 3))\n",
    "# plot_df(list2d_to_df(expenses), False, 1, 1, 'Expenses', 'expenses.pdf')\n",
    "plot_df(list2d_to_df(loans), True, 1, len(loans), 'Percent of Gross Loans and Leases', 'loan_mix.pdf', \n",
    "        legend_loc='upper left', legend_bbox=(1.04, 1), fig_size=(10, 3))\n",
    "plot_df(list2d_to_df(loan_loss), True, 2, 2, 'Net Loan and Lease Losses', 'loan_loss.pdf', fig_size=(11, 3))\n",
    "plot_df(list2d_to_df(past_due), True, 1, len(past_due), 'Percent of Loans and Leases', 'past_due.pdf', \n",
    "        legend_loc='upper left', legend_bbox=(1.04, 1), fig_size=(10, 3))\n",
    "plot_df(list2d_to_df(reserves), True, 2, 2, 'Allowance for Loan and Lease Losses', 'loan_reserves.pdf', fig_size=(11, 3))\n",
    "plot_df(list2d_to_df(liquidity), True, 1, len(liquidity), 'Percent of Total Assets', 'liquidity_funding.pdf', \n",
    "        legend_loc='upper left', legend_bbox=(1.04, 1), fig_size=(10, 4))\n",
    "plot_df(list2d_to_df(capitalization), True, 1, len(capitalization), 'Capitalization Ratio', 'capitalization_ratios.pdf', \n",
    "        legend_loc='upper left', legend_bbox=(1.04, 1), fig_size=(11, 3))\n",
    "plot_df(list2d_to_df(capitalization_percent), True, 1, len(capitalization_percent), 'HTH Percentile vs Peer Group', 'capitalization_ratios_percent.pdf', \n",
    "        legend_loc='upper left', legend_bbox=(1.04, 1), fig_size=(11, 3))\n",
    "plot_df(list2d_to_df(growth_rates), True, 1, len(growth_rates), 'Growth Rate', 'growth_rates.pdf', \n",
    "        legend_loc='upper left', legend_bbox=(1.04, 1), fig_size=(11, 3))\n",
    "plot_df(list2d_to_df(growth_rates_percent), True, 1, len(growth_rates_percent), 'HTH Percentile vs Peer Group', 'growth_rates_percent.pdf', \n",
    "        legend_loc='upper left', legend_bbox=(1.04, 1), fig_size=(11, 3))\n",
    "plot_df(list2d_to_df(asset_comp), True, 1, len(asset_comp), 'Percent of Total Assets', 'asset_composition.pdf', \n",
    "        legend_loc='upper center', legend_bbox=(0.5, -0.075), legend_ncol=3, fig_size=(15, 8))\n",
    "plot_df(list2d_to_df(liability_comp), True, 1, len(liability_comp), 'Percent of Total Liabilities', 'liability_composition.pdf', \n",
    "        legend_loc='upper center', legend_bbox=(0.5, -0.075), legend_ncol=3, fig_size=(15, 8))\n"
   ]
  },
  {
   "cell_type": "code",
   "execution_count": 305,
   "metadata": {},
   "outputs": [
    {
     "data": {
      "text/plain": [
       "<Figure size 432x288 with 0 Axes>"
      ]
     },
     "metadata": {},
     "output_type": "display_data"
    },
    {
     "data": {
      "text/plain": [
       "<Figure size 432x288 with 0 Axes>"
      ]
     },
     "metadata": {},
     "output_type": "display_data"
    }
   ],
   "source": []
  },
  {
   "cell_type": "code",
   "execution_count": 300,
   "metadata": {},
   "outputs": [
    {
     "data": {
      "text/plain": [
       "<Figure size 432x288 with 0 Axes>"
      ]
     },
     "metadata": {},
     "output_type": "display_data"
    }
   ],
   "source": []
  },
  {
   "cell_type": "code",
   "execution_count": null,
   "metadata": {},
   "outputs": [],
   "source": [
    "\n",
    "    "
   ]
  },
  {
   "cell_type": "code",
   "execution_count": null,
   "metadata": {},
   "outputs": [],
   "source": []
  },
  {
   "cell_type": "code",
   "execution_count": null,
   "metadata": {},
   "outputs": [],
   "source": []
  },
  {
   "cell_type": "code",
   "execution_count": null,
   "metadata": {},
   "outputs": [],
   "source": []
  }
 ],
 "metadata": {
  "kernelspec": {
   "display_name": "Python 3",
   "language": "python",
   "name": "python3"
  },
  "language_info": {
   "codemirror_mode": {
    "name": "ipython",
    "version": 3
   },
   "file_extension": ".py",
   "mimetype": "text/x-python",
   "name": "python",
   "nbconvert_exporter": "python",
   "pygments_lexer": "ipython3",
   "version": "3.7.8"
  }
 },
 "nbformat": 4,
 "nbformat_minor": 4
}
